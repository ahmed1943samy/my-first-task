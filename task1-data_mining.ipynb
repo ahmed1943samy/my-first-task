{
 "cells": [
  {
   "cell_type": "code",
   "execution_count": 1,
   "id": "51b67434-d919-41df-a08f-0478c4cda39d",
   "metadata": {},
   "outputs": [],
   "source": [
    "import pandas as pd\n",
    "from sklearn.impute import SimpleImputer\n",
    "from sklearn.preprocessing import StandardScaler, MinMaxScaler"
   ]
  },
  {
   "cell_type": "code",
   "execution_count": 3,
   "id": "79d941ca-ea0d-4384-b77b-7b63142c4f16",
   "metadata": {},
   "outputs": [],
   "source": [
    "df = pd.read_csv(r'C:\\Users\\anaah\\OneDrive\\Desktop\\student_scores.csv')\n"
   ]
  },
  {
   "cell_type": "code",
   "execution_count": 5,
   "id": "b8f8c3d8-cb35-4cbc-8192-a34e79bf27a3",
   "metadata": {},
   "outputs": [],
   "source": [
    "imputer = SimpleImputer(strategy='mean')\n",
    "df_imputed = imputer.fit_transform(df)"
   ]
  },
  {
   "cell_type": "code",
   "execution_count": 7,
   "id": "c802e94c-2881-45ea-865e-3905fc60bb06",
   "metadata": {},
   "outputs": [],
   "source": [
    "scaler = StandardScaler()\n",
    "df_standardized = scaler.fit_transform(df_imputed)"
   ]
  },
  {
   "cell_type": "code",
   "execution_count": 9,
   "id": "b8614acd-84a1-4784-afdb-743c2177dbfd",
   "metadata": {},
   "outputs": [],
   "source": [
    "normalizer = MinMaxScaler()\n",
    "df_normalized = normalizer.fit_transform(df_standardized)"
   ]
  },
  {
   "cell_type": "code",
   "execution_count": 11,
   "id": "97434202-38ff-41ca-bbee-214fa422f184",
   "metadata": {},
   "outputs": [],
   "source": [
    "df_preprocessed = pd.DataFrame(df_normalized, columns=df.columns)"
   ]
  },
  {
   "cell_type": "code",
   "execution_count": 13,
   "id": "221474e6-b2db-43ea-8383-623584c7b80f",
   "metadata": {},
   "outputs": [
    {
     "name": "stdout",
     "output_type": "stream",
     "text": [
      "      Hours    Scores\n",
      "0  0.172840  0.051282\n",
      "1  0.493827  0.384615\n",
      "2  0.259259  0.128205\n",
      "3  0.913580  0.743590\n",
      "4  0.296296  0.166667\n"
     ]
    }
   ],
   "source": [
    "print(df_preprocessed.head())\n"
   ]
  },
  {
   "cell_type": "code",
   "execution_count": null,
   "id": "06690b8f-3a52-4711-83a2-df5f77bc4b91",
   "metadata": {},
   "outputs": [],
   "source": []
  }
 ],
 "metadata": {
  "kernelspec": {
   "display_name": "Python 3 (ipykernel)",
   "language": "python",
   "name": "python3"
  },
  "language_info": {
   "codemirror_mode": {
    "name": "ipython",
    "version": 3
   },
   "file_extension": ".py",
   "mimetype": "text/x-python",
   "name": "python",
   "nbconvert_exporter": "python",
   "pygments_lexer": "ipython3",
   "version": "3.12.4"
  }
 },
 "nbformat": 4,
 "nbformat_minor": 5
}
